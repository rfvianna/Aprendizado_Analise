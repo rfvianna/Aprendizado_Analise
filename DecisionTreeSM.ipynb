{
 "cells": [
  {
   "cell_type": "markdown",
   "id": "0662b27e",
   "metadata": {},
   "source": [
    "# Decision Tree"
   ]
  },
  {
   "cell_type": "code",
   "execution_count": 1,
   "id": "b87b5048",
   "metadata": {},
   "outputs": [],
   "source": [
    "import numpy as np\n",
    "import pandas as pd\n",
    "import matplotlib.pyplot as plt"
   ]
  },
  {
   "cell_type": "markdown",
   "id": "1636dd64",
   "metadata": {},
   "source": [
    "## Leitura dos dados"
   ]
  },
  {
   "cell_type": "code",
   "execution_count": 2,
   "id": "eae1e85f",
   "metadata": {},
   "outputs": [
    {
     "data": {
      "text/html": [
       "<div>\n",
       "<style scoped>\n",
       "    .dataframe tbody tr th:only-of-type {\n",
       "        vertical-align: middle;\n",
       "    }\n",
       "\n",
       "    .dataframe tbody tr th {\n",
       "        vertical-align: top;\n",
       "    }\n",
       "\n",
       "    .dataframe thead th {\n",
       "        text-align: right;\n",
       "    }\n",
       "</style>\n",
       "<table border=\"1\" class=\"dataframe\">\n",
       "  <thead>\n",
       "    <tr style=\"text-align: right;\">\n",
       "      <th></th>\n",
       "      <th>Age</th>\n",
       "      <th>NumOfProducts</th>\n",
       "      <th>IsActiveMember</th>\n",
       "      <th>Exited</th>\n",
       "    </tr>\n",
       "  </thead>\n",
       "  <tbody>\n",
       "    <tr>\n",
       "      <th>0</th>\n",
       "      <td>42</td>\n",
       "      <td>1</td>\n",
       "      <td>1</td>\n",
       "      <td>1</td>\n",
       "    </tr>\n",
       "    <tr>\n",
       "      <th>1</th>\n",
       "      <td>41</td>\n",
       "      <td>1</td>\n",
       "      <td>1</td>\n",
       "      <td>0</td>\n",
       "    </tr>\n",
       "    <tr>\n",
       "      <th>2</th>\n",
       "      <td>42</td>\n",
       "      <td>3</td>\n",
       "      <td>0</td>\n",
       "      <td>1</td>\n",
       "    </tr>\n",
       "    <tr>\n",
       "      <th>3</th>\n",
       "      <td>39</td>\n",
       "      <td>2</td>\n",
       "      <td>0</td>\n",
       "      <td>0</td>\n",
       "    </tr>\n",
       "    <tr>\n",
       "      <th>4</th>\n",
       "      <td>43</td>\n",
       "      <td>1</td>\n",
       "      <td>1</td>\n",
       "      <td>0</td>\n",
       "    </tr>\n",
       "    <tr>\n",
       "      <th>...</th>\n",
       "      <td>...</td>\n",
       "      <td>...</td>\n",
       "      <td>...</td>\n",
       "      <td>...</td>\n",
       "    </tr>\n",
       "    <tr>\n",
       "      <th>9995</th>\n",
       "      <td>39</td>\n",
       "      <td>2</td>\n",
       "      <td>0</td>\n",
       "      <td>0</td>\n",
       "    </tr>\n",
       "    <tr>\n",
       "      <th>9996</th>\n",
       "      <td>35</td>\n",
       "      <td>1</td>\n",
       "      <td>1</td>\n",
       "      <td>0</td>\n",
       "    </tr>\n",
       "    <tr>\n",
       "      <th>9997</th>\n",
       "      <td>36</td>\n",
       "      <td>1</td>\n",
       "      <td>1</td>\n",
       "      <td>1</td>\n",
       "    </tr>\n",
       "    <tr>\n",
       "      <th>9998</th>\n",
       "      <td>42</td>\n",
       "      <td>2</td>\n",
       "      <td>0</td>\n",
       "      <td>1</td>\n",
       "    </tr>\n",
       "    <tr>\n",
       "      <th>9999</th>\n",
       "      <td>28</td>\n",
       "      <td>1</td>\n",
       "      <td>0</td>\n",
       "      <td>0</td>\n",
       "    </tr>\n",
       "  </tbody>\n",
       "</table>\n",
       "<p>10000 rows × 4 columns</p>\n",
       "</div>"
      ],
      "text/plain": [
       "      Age  NumOfProducts  IsActiveMember  Exited\n",
       "0      42              1               1       1\n",
       "1      41              1               1       0\n",
       "2      42              3               0       1\n",
       "3      39              2               0       0\n",
       "4      43              1               1       0\n",
       "...   ...            ...             ...     ...\n",
       "9995   39              2               0       0\n",
       "9996   35              1               1       0\n",
       "9997   36              1               1       1\n",
       "9998   42              2               0       1\n",
       "9999   28              1               0       0\n",
       "\n",
       "[10000 rows x 4 columns]"
      ]
     },
     "execution_count": 2,
     "metadata": {},
     "output_type": "execute_result"
    }
   ],
   "source": [
    "df = pd.read_csv('dt.csv')\n",
    "df"
   ]
  },
  {
   "cell_type": "markdown",
   "id": "fe7e655a",
   "metadata": {},
   "source": [
    "## Separação em variável preditiva e variável resposta"
   ]
  },
  {
   "cell_type": "code",
   "execution_count": 3,
   "id": "9ec671b4",
   "metadata": {},
   "outputs": [
    {
     "data": {
      "text/html": [
       "<div>\n",
       "<style scoped>\n",
       "    .dataframe tbody tr th:only-of-type {\n",
       "        vertical-align: middle;\n",
       "    }\n",
       "\n",
       "    .dataframe tbody tr th {\n",
       "        vertical-align: top;\n",
       "    }\n",
       "\n",
       "    .dataframe thead th {\n",
       "        text-align: right;\n",
       "    }\n",
       "</style>\n",
       "<table border=\"1\" class=\"dataframe\">\n",
       "  <thead>\n",
       "    <tr style=\"text-align: right;\">\n",
       "      <th></th>\n",
       "      <th>Age</th>\n",
       "      <th>NumOfProducts</th>\n",
       "      <th>IsActiveMember</th>\n",
       "    </tr>\n",
       "  </thead>\n",
       "  <tbody>\n",
       "    <tr>\n",
       "      <th>0</th>\n",
       "      <td>42</td>\n",
       "      <td>1</td>\n",
       "      <td>1</td>\n",
       "    </tr>\n",
       "    <tr>\n",
       "      <th>1</th>\n",
       "      <td>41</td>\n",
       "      <td>1</td>\n",
       "      <td>1</td>\n",
       "    </tr>\n",
       "    <tr>\n",
       "      <th>2</th>\n",
       "      <td>42</td>\n",
       "      <td>3</td>\n",
       "      <td>0</td>\n",
       "    </tr>\n",
       "    <tr>\n",
       "      <th>3</th>\n",
       "      <td>39</td>\n",
       "      <td>2</td>\n",
       "      <td>0</td>\n",
       "    </tr>\n",
       "    <tr>\n",
       "      <th>4</th>\n",
       "      <td>43</td>\n",
       "      <td>1</td>\n",
       "      <td>1</td>\n",
       "    </tr>\n",
       "    <tr>\n",
       "      <th>...</th>\n",
       "      <td>...</td>\n",
       "      <td>...</td>\n",
       "      <td>...</td>\n",
       "    </tr>\n",
       "    <tr>\n",
       "      <th>9995</th>\n",
       "      <td>39</td>\n",
       "      <td>2</td>\n",
       "      <td>0</td>\n",
       "    </tr>\n",
       "    <tr>\n",
       "      <th>9996</th>\n",
       "      <td>35</td>\n",
       "      <td>1</td>\n",
       "      <td>1</td>\n",
       "    </tr>\n",
       "    <tr>\n",
       "      <th>9997</th>\n",
       "      <td>36</td>\n",
       "      <td>1</td>\n",
       "      <td>1</td>\n",
       "    </tr>\n",
       "    <tr>\n",
       "      <th>9998</th>\n",
       "      <td>42</td>\n",
       "      <td>2</td>\n",
       "      <td>0</td>\n",
       "    </tr>\n",
       "    <tr>\n",
       "      <th>9999</th>\n",
       "      <td>28</td>\n",
       "      <td>1</td>\n",
       "      <td>0</td>\n",
       "    </tr>\n",
       "  </tbody>\n",
       "</table>\n",
       "<p>10000 rows × 3 columns</p>\n",
       "</div>"
      ],
      "text/plain": [
       "      Age  NumOfProducts  IsActiveMember\n",
       "0      42              1               1\n",
       "1      41              1               1\n",
       "2      42              3               0\n",
       "3      39              2               0\n",
       "4      43              1               1\n",
       "...   ...            ...             ...\n",
       "9995   39              2               0\n",
       "9996   35              1               1\n",
       "9997   36              1               1\n",
       "9998   42              2               0\n",
       "9999   28              1               0\n",
       "\n",
       "[10000 rows x 3 columns]"
      ]
     },
     "execution_count": 3,
     "metadata": {},
     "output_type": "execute_result"
    }
   ],
   "source": [
    "X = df.drop(columns='Exited', axis=1)\n",
    "y = df.Exited\n",
    "X"
   ]
  },
  {
   "cell_type": "code",
   "execution_count": 4,
   "id": "a5ec3787",
   "metadata": {},
   "outputs": [
    {
     "data": {
      "text/plain": [
       "0       1\n",
       "1       0\n",
       "2       1\n",
       "3       0\n",
       "4       0\n",
       "       ..\n",
       "9995    0\n",
       "9996    0\n",
       "9997    1\n",
       "9998    1\n",
       "9999    0\n",
       "Name: Exited, Length: 10000, dtype: int64"
      ]
     },
     "execution_count": 4,
     "metadata": {},
     "output_type": "execute_result"
    }
   ],
   "source": [
    "y"
   ]
  },
  {
   "cell_type": "markdown",
   "id": "34638286",
   "metadata": {},
   "source": [
    "## Análises preliminares"
   ]
  },
  {
   "cell_type": "code",
   "execution_count": 5,
   "id": "09c0d645",
   "metadata": {},
   "outputs": [
    {
     "data": {
      "text/plain": [
       "<matplotlib.legend.Legend at 0x23d54bcbbb0>"
      ]
     },
     "execution_count": 5,
     "metadata": {},
     "output_type": "execute_result"
    },
    {
     "data": {
      "image/png": "[encoded data removed]",
      "text/plain": [
       "<Figure size 1080x360 with 1 Axes>"
      ]
     },
     "metadata": {
      "needs_background": "light"
     },
     "output_type": "display_data"
    }
   ],
   "source": [
    "mi= X.Age.min()\n",
    "ma= X.Age.max()\n",
    "bins= np.linspace(mi, ma, 20)\n",
    "\n",
    "plt.figure(figsize=(15, 5))\n",
    "plt.hist(X.loc[y==0].Age, bins=bins, rwidth=.8, color='b', alpha=.3, density=True, label='Clientes fieis')\n",
    "plt.hist(X.loc[y==1].Age, bins=bins, rwidth=.8, color='r', alpha=.3, density=True, label='Clientes que abandonam')\n",
    "plt.legend()"
   ]
  },
  {
   "cell_type": "markdown",
   "id": "9a53f7ba",
   "metadata": {},
   "source": [
    "### Podemos perceber que o público jovem, em sua maioria, tende a se manter fiel na empresa, enquanto o público a partir dos 40/45 anos é mais propenso a abandonar a empresa"
   ]
  },
  {
   "cell_type": "code",
   "execution_count": 6,
   "id": "462a8a85",
   "metadata": {},
   "outputs": [
    {
     "data": {
      "text/plain": [
       "0.2037"
      ]
     },
     "execution_count": 6,
     "metadata": {},
     "output_type": "execute_result"
    }
   ],
   "source": [
    "y.mean()"
   ]
  },
  {
   "cell_type": "code",
   "execution_count": 7,
   "id": "c4018dec",
   "metadata": {},
   "outputs": [
    {
     "data": {
      "text/plain": [
       "0.3588337901819088"
      ]
     },
     "execution_count": 7,
     "metadata": {},
     "output_type": "execute_result"
    }
   ],
   "source": [
    "y.loc[X.Age>=40].mean()"
   ]
  },
  {
   "cell_type": "markdown",
   "id": "3bf25893",
   "metadata": {},
   "source": [
    "### Cerca de 36% dos clientes com mais de 40 anos abandonam a empresa"
   ]
  },
  {
   "cell_type": "code",
   "execution_count": 8,
   "id": "66be2e33",
   "metadata": {},
   "outputs": [
    {
     "data": {
      "text/plain": [
       "0.09971605144479706"
      ]
     },
     "execution_count": 8,
     "metadata": {},
     "output_type": "execute_result"
    }
   ],
   "source": [
    "y.loc[X.Age<40].mean()"
   ]
  },
  {
   "cell_type": "markdown",
   "id": "ffae628a",
   "metadata": {},
   "source": [
    "### Apenas cerca de 10% dos clientes com menos de 40 anos abandonam a empresa"
   ]
  },
  {
   "cell_type": "code",
   "execution_count": 9,
   "id": "7fa3b36f",
   "metadata": {},
   "outputs": [
    {
     "data": {
      "text/plain": [
       "<matplotlib.legend.Legend at 0x23d553cb400>"
      ]
     },
     "execution_count": 9,
     "metadata": {},
     "output_type": "execute_result"
    },
    {
     "data": {
      "image/png": "[encoded data removed]",
      "text/plain": [
       "<Figure size 1080x360 with 1 Axes>"
      ]
     },
     "metadata": {
      "needs_background": "light"
     },
     "output_type": "display_data"
    }
   ],
   "source": [
    "mi= X.NumOfProducts.min()\n",
    "ma= X.NumOfProducts.max()\n",
    "bins= np.linspace(mi, ma, 20)\n",
    "\n",
    "plt.figure(figsize=(15, 5))\n",
    "plt.hist(X.loc[y==0].NumOfProducts, bins=bins, rwidth=.8, color='b', alpha=.3, density=True, label='Clientes fieis')\n",
    "plt.hist(X.loc[y==1].NumOfProducts, bins=bins, rwidth=.8, color='r', alpha=.3, density=True, label='Clientes que abandonam')\n",
    "plt.legend()"
   ]
  },
  {
   "cell_type": "markdown",
   "id": "06f078a7",
   "metadata": {},
   "source": [
    "### Estranhamente, clientes que possuem 2 produtos são mais prováveis a se manterem fieis. Enquanto isso, clientes com 3 ou 4 produtos, em sua maioria, abandonam a empresa. Isso pode ser devido aos planos oferecidos, a qualidade de outros produtos ou até uma coincidência."
   ]
  },
  {
   "cell_type": "code",
   "execution_count": 10,
   "id": "f816f298",
   "metadata": {},
   "outputs": [
    {
     "data": {
      "text/plain": [
       "<matplotlib.legend.Legend at 0x23d553ed3a0>"
      ]
     },
     "execution_count": 10,
     "metadata": {},
     "output_type": "execute_result"
    },
    {
     "data": {
      "image/png": "[encoded data removed]",
      "text/plain": [
       "<Figure size 1080x360 with 1 Axes>"
      ]
     },
     "metadata": {
      "needs_background": "light"
     },
     "output_type": "display_data"
    }
   ],
   "source": [
    "mi= X.IsActiveMember.min()\n",
    "ma= X.IsActiveMember.max()\n",
    "bins= np.linspace(mi, ma, 20)\n",
    "\n",
    "plt.figure(figsize=(15, 5))\n",
    "plt.hist(X.loc[y==0].IsActiveMember, bins= bins, rwidth=.8, color='b', alpha=.3, density=True, label='Clientes fieis')\n",
    "plt.hist(X.loc[y==1].IsActiveMember, bins= bins, rwidth=.8, color='r', alpha=.3, density=True, label='Clientes que abandonam')\n",
    "plt.legend()"
   ]
  },
  {
   "cell_type": "markdown",
   "id": "b71eb066",
   "metadata": {},
   "source": [
    "### Clientes que são membros ativos, tendem a ser mais fieis, como esperado."
   ]
  },
  {
   "cell_type": "markdown",
   "id": "1a392bff",
   "metadata": {},
   "source": [
    "## Divisão em conjunto treino e conjunto teste"
   ]
  },
  {
   "cell_type": "code",
   "execution_count": 11,
   "id": "97a1424c",
   "metadata": {},
   "outputs": [],
   "source": [
    "from sklearn.model_selection import train_test_split\n",
    "\n",
    "X_tr, X_ts, y_tr, y_ts = train_test_split(X, y, test_size=.3, random_state=61658)"
   ]
  },
  {
   "cell_type": "markdown",
   "id": "a1509cfb",
   "metadata": {},
   "source": [
    "## Definição dos parâmetros de Validação Cruzada"
   ]
  },
  {
   "cell_type": "code",
   "execution_count": 12,
   "id": "0c9752ec",
   "metadata": {},
   "outputs": [],
   "source": [
    "from sklearn.tree import DecisionTreeClassifier\n",
    "from sklearn.model_selection import GridSearchCV\n",
    "\n",
    "params={\n",
    "    'max_leaf_nodes': [4, 8, 16, 32, 64, 128, 256, 512, 1024, 2048],\n",
    "    'criterion': ['gini', 'entropy']\n",
    "}\n",
    "grid = GridSearchCV(\n",
    "        DecisionTreeClassifier(random_state=61658), #1o arg - Modelo\n",
    "        params,                                     #2o arg - Parâmetros\n",
    "        cv= 10,                                     #3o arg - Qtd de folds\n",
    "        scoring = 'roc_auc',                        #4o arg - Métrica\n",
    "        verbose= 5                                  #5o arg - Mostra na tela\n",
    ")"
   ]
  },
  {
   "cell_type": "code",
   "execution_count": 13,
   "id": "4080aa6c",
   "metadata": {},
   "outputs": [
    {
     "data": {
      "text/plain": [
       "GridSearchCV(cv=10, estimator=DecisionTreeClassifier(random_state=61658),\n",
       "             param_grid={'criterion': ['gini', 'entropy'],\n",
       "                         'max_leaf_nodes': [4, 8, 16, 32, 64, 128, 256, 512,\n",
       "                                            1024, 2048]},\n",
       "             scoring='roc_auc', verbose=5)"
      ]
     },
     "execution_count": 13,
     "metadata": {},
     "output_type": "execute_result"
    }
   ],
   "source": [
    "grid"
   ]
  },
  {
   "cell_type": "markdown",
   "id": "c2f03bcf",
   "metadata": {},
   "source": [
    "## Encontrar o melhor modelo nos dados de treino por Validação Cruzada"
   ]
  },
  {
   "cell_type": "code",
   "execution_count": 14,
   "id": "1ef89a87",
   "metadata": {},
   "outputs": [
    {
     "name": "stdout",
     "output_type": "stream",
     "text": [
      "Fitting 10 folds for each of 20 candidates, totalling 200 fits\n",
      "[CV 1/10] END ..............criterion=gini, max_leaf_nodes=4; total time=   0.0s\n",
      "[CV 2/10] END ..............criterion=gini, max_leaf_nodes=4; total time=   0.0s\n",
      "[CV 3/10] END ..............criterion=gini, max_leaf_nodes=4; total time=   0.0s\n",
      "[CV 4/10] END ..............criterion=gini, max_leaf_nodes=4; total time=   0.0s\n",
      "[CV 5/10] END ..............criterion=gini, max_leaf_nodes=4; total time=   0.0s\n",
      "[CV 6/10] END ..............criterion=gini, max_leaf_nodes=4; total time=   0.0s\n",
      "[CV 7/10] END ..............criterion=gini, max_leaf_nodes=4; total time=   0.0s\n",
      "[CV 8/10] END ..............criterion=gini, max_leaf_nodes=4; total time=   0.0s\n",
      "[CV 9/10] END ..............criterion=gini, max_leaf_nodes=4; total time=   0.0s\n",
      "[CV 10/10] END .............criterion=gini, max_leaf_nodes=4; total time=   0.0s\n",
      "[CV 1/10] END ..............criterion=gini, max_leaf_nodes=8; total time=   0.0s\n",
      "[CV 2/10] END ..............criterion=gini, max_leaf_nodes=8; total time=   0.0s\n",
      "[CV 3/10] END ..............criterion=gini, max_leaf_nodes=8; total time=   0.0s\n",
      "[CV 4/10] END ..............criterion=gini, max_leaf_nodes=8; total time=   0.0s\n",
      "[CV 5/10] END ..............criterion=gini, max_leaf_nodes=8; total time=   0.0s\n",
      "[CV 6/10] END ..............criterion=gini, max_leaf_nodes=8; total time=   0.0s\n",
      "[CV 7/10] END ..............criterion=gini, max_leaf_nodes=8; total time=   0.0s\n",
      "[CV 8/10] END ..............criterion=gini, max_leaf_nodes=8; total time=   0.0s\n",
      "[CV 9/10] END ..............criterion=gini, max_leaf_nodes=8; total time=   0.0s\n",
      "[CV 10/10] END .............criterion=gini, max_leaf_nodes=8; total time=   0.0s\n",
      "[CV 1/10] END .............criterion=gini, max_leaf_nodes=16; total time=   0.0s\n",
      "[CV 2/10] END .............criterion=gini, max_leaf_nodes=16; total time=   0.0s\n",
      "[CV 3/10] END .............criterion=gini, max_leaf_nodes=16; total time=   0.0s\n",
      "[CV 4/10] END .............criterion=gini, max_leaf_nodes=16; total time=   0.0s\n",
      "[CV 5/10] END .............criterion=gini, max_leaf_nodes=16; total time=   0.0s\n",
      "[CV 6/10] END .............criterion=gini, max_leaf_nodes=16; total time=   0.0s\n",
      "[CV 7/10] END .............criterion=gini, max_leaf_nodes=16; total time=   0.0s\n",
      "[CV 8/10] END .............criterion=gini, max_leaf_nodes=16; total time=   0.0s\n",
      "[CV 9/10] END .............criterion=gini, max_leaf_nodes=16; total time=   0.0s\n",
      "[CV 10/10] END ............criterion=gini, max_leaf_nodes=16; total time=   0.0s\n",
      "[CV 1/10] END .............criterion=gini, max_leaf_nodes=32; total time=   0.0s\n",
      "[CV 2/10] END .............criterion=gini, max_leaf_nodes=32; total time=   0.0s\n",
      "[CV 3/10] END .............criterion=gini, max_leaf_nodes=32; total time=   0.0s\n",
      "[CV 4/10] END .............criterion=gini, max_leaf_nodes=32; total time=   0.0s\n",
      "[CV 5/10] END .............criterion=gini, max_leaf_nodes=32; total time=   0.0s\n",
      "[CV 6/10] END .............criterion=gini, max_leaf_nodes=32; total time=   0.0s\n",
      "[CV 7/10] END .............criterion=gini, max_leaf_nodes=32; total time=   0.0s\n",
      "[CV 8/10] END .............criterion=gini, max_leaf_nodes=32; total time=   0.0s\n",
      "[CV 9/10] END .............criterion=gini, max_leaf_nodes=32; total time=   0.0s\n",
      "[CV 10/10] END ............criterion=gini, max_leaf_nodes=32; total time=   0.0s\n",
      "[CV 1/10] END .............criterion=gini, max_leaf_nodes=64; total time=   0.0s\n",
      "[CV 2/10] END .............criterion=gini, max_leaf_nodes=64; total time=   0.0s\n",
      "[CV 3/10] END .............criterion=gini, max_leaf_nodes=64; total time=   0.0s\n",
      "[CV 4/10] END .............criterion=gini, max_leaf_nodes=64; total time=   0.0s\n",
      "[CV 5/10] END .............criterion=gini, max_leaf_nodes=64; total time=   0.0s\n",
      "[CV 6/10] END .............criterion=gini, max_leaf_nodes=64; total time=   0.0s\n",
      "[CV 7/10] END .............criterion=gini, max_leaf_nodes=64; total time=   0.0s\n",
      "[CV 8/10] END .............criterion=gini, max_leaf_nodes=64; total time=   0.0s\n",
      "[CV 9/10] END .............criterion=gini, max_leaf_nodes=64; total time=   0.0s\n",
      "[CV 10/10] END ............criterion=gini, max_leaf_nodes=64; total time=   0.0s\n",
      "[CV 1/10] END ............criterion=gini, max_leaf_nodes=128; total time=   0.0s\n",
      "[CV 2/10] END ............criterion=gini, max_leaf_nodes=128; total time=   0.0s\n",
      "[CV 3/10] END ............criterion=gini, max_leaf_nodes=128; total time=   0.0s\n",
      "[CV 4/10] END ............criterion=gini, max_leaf_nodes=128; total time=   0.0s\n",
      "[CV 5/10] END ............criterion=gini, max_leaf_nodes=128; total time=   0.0s\n",
      "[CV 6/10] END ............criterion=gini, max_leaf_nodes=128; total time=   0.0s\n",
      "[CV 7/10] END ............criterion=gini, max_leaf_nodes=128; total time=   0.0s\n",
      "[CV 8/10] END ............criterion=gini, max_leaf_nodes=128; total time=   0.0s\n",
      "[CV 9/10] END ............criterion=gini, max_leaf_nodes=128; total time=   0.0s\n",
      "[CV 10/10] END ...........criterion=gini, max_leaf_nodes=128; total time=   0.0s\n",
      "[CV 1/10] END ............criterion=gini, max_leaf_nodes=256; total time=   0.0s\n",
      "[CV 2/10] END ............criterion=gini, max_leaf_nodes=256; total time=   0.0s\n",
      "[CV 3/10] END ............criterion=gini, max_leaf_nodes=256; total time=   0.0s\n",
      "[CV 4/10] END ............criterion=gini, max_leaf_nodes=256; total time=   0.0s\n",
      "[CV 5/10] END ............criterion=gini, max_leaf_nodes=256; total time=   0.0s\n",
      "[CV 6/10] END ............criterion=gini, max_leaf_nodes=256; total time=   0.0s\n",
      "[CV 7/10] END ............criterion=gini, max_leaf_nodes=256; total time=   0.0s\n",
      "[CV 8/10] END ............criterion=gini, max_leaf_nodes=256; total time=   0.0s\n",
      "[CV 9/10] END ............criterion=gini, max_leaf_nodes=256; total time=   0.0s\n",
      "[CV 10/10] END ...........criterion=gini, max_leaf_nodes=256; total time=   0.0s\n",
      "[CV 1/10] END ............criterion=gini, max_leaf_nodes=512; total time=   0.0s\n",
      "[CV 2/10] END ............criterion=gini, max_leaf_nodes=512; total time=   0.0s\n",
      "[CV 3/10] END ............criterion=gini, max_leaf_nodes=512; total time=   0.0s\n",
      "[CV 4/10] END ............criterion=gini, max_leaf_nodes=512; total time=   0.0s\n",
      "[CV 5/10] END ............criterion=gini, max_leaf_nodes=512; total time=   0.0s\n",
      "[CV 6/10] END ............criterion=gini, max_leaf_nodes=512; total time=   0.0s\n",
      "[CV 7/10] END ............criterion=gini, max_leaf_nodes=512; total time=   0.0s\n",
      "[CV 8/10] END ............criterion=gini, max_leaf_nodes=512; total time=   0.0s\n",
      "[CV 9/10] END ............criterion=gini, max_leaf_nodes=512; total time=   0.0s\n",
      "[CV 10/10] END ...........criterion=gini, max_leaf_nodes=512; total time=   0.0s\n",
      "[CV 1/10] END ...........criterion=gini, max_leaf_nodes=1024; total time=   0.0s\n",
      "[CV 2/10] END ...........criterion=gini, max_leaf_nodes=1024; total time=   0.0s\n",
      "[CV 3/10] END ...........criterion=gini, max_leaf_nodes=1024; total time=   0.0s\n",
      "[CV 4/10] END ...........criterion=gini, max_leaf_nodes=1024; total time=   0.0s\n",
      "[CV 5/10] END ...........criterion=gini, max_leaf_nodes=1024; total time=   0.0s\n",
      "[CV 6/10] END ...........criterion=gini, max_leaf_nodes=1024; total time=   0.0s\n",
      "[CV 7/10] END ...........criterion=gini, max_leaf_nodes=1024; total time=   0.0s\n",
      "[CV 8/10] END ...........criterion=gini, max_leaf_nodes=1024; total time=   0.0s\n",
      "[CV 9/10] END ...........criterion=gini, max_leaf_nodes=1024; total time=   0.0s\n",
      "[CV 10/10] END ..........criterion=gini, max_leaf_nodes=1024; total time=   0.0s\n",
      "[CV 1/10] END ...........criterion=gini, max_leaf_nodes=2048; total time=   0.0s\n",
      "[CV 2/10] END ...........criterion=gini, max_leaf_nodes=2048; total time=   0.0s\n",
      "[CV 3/10] END ...........criterion=gini, max_leaf_nodes=2048; total time=   0.0s\n",
      "[CV 4/10] END ...........criterion=gini, max_leaf_nodes=2048; total time=   0.0s\n",
      "[CV 5/10] END ...........criterion=gini, max_leaf_nodes=2048; total time=   0.0s\n",
      "[CV 6/10] END ...........criterion=gini, max_leaf_nodes=2048; total time=   0.0s\n",
      "[CV 7/10] END ...........criterion=gini, max_leaf_nodes=2048; total time=   0.0s\n",
      "[CV 8/10] END ...........criterion=gini, max_leaf_nodes=2048; total time=   0.0s\n",
      "[CV 9/10] END ...........criterion=gini, max_leaf_nodes=2048; total time=   0.0s\n",
      "[CV 10/10] END ..........criterion=gini, max_leaf_nodes=2048; total time=   0.0s\n",
      "[CV 1/10] END ...........criterion=entropy, max_leaf_nodes=4; total time=   0.0s\n",
      "[CV 2/10] END ...........criterion=entropy, max_leaf_nodes=4; total time=   0.0s\n",
      "[CV 3/10] END ...........criterion=entropy, max_leaf_nodes=4; total time=   0.0s\n",
      "[CV 4/10] END ...........criterion=entropy, max_leaf_nodes=4; total time=   0.0s\n",
      "[CV 5/10] END ...........criterion=entropy, max_leaf_nodes=4; total time=   0.0s\n",
      "[CV 6/10] END ...........criterion=entropy, max_leaf_nodes=4; total time=   0.0s\n",
      "[CV 7/10] END ...........criterion=entropy, max_leaf_nodes=4; total time=   0.0s\n",
      "[CV 8/10] END ...........criterion=entropy, max_leaf_nodes=4; total time=   0.0s\n",
      "[CV 9/10] END ...........criterion=entropy, max_leaf_nodes=4; total time=   0.0s\n"
     ]
    },
    {
     "name": "stdout",
     "output_type": "stream",
     "text": [
      "[CV 10/10] END ..........criterion=entropy, max_leaf_nodes=4; total time=   0.0s\n",
      "[CV 1/10] END ...........criterion=entropy, max_leaf_nodes=8; total time=   0.0s\n",
      "[CV 2/10] END ...........criterion=entropy, max_leaf_nodes=8; total time=   0.0s\n",
      "[CV 3/10] END ...........criterion=entropy, max_leaf_nodes=8; total time=   0.0s\n",
      "[CV 4/10] END ...........criterion=entropy, max_leaf_nodes=8; total time=   0.0s\n",
      "[CV 5/10] END ...........criterion=entropy, max_leaf_nodes=8; total time=   0.0s\n",
      "[CV 6/10] END ...........criterion=entropy, max_leaf_nodes=8; total time=   0.0s\n",
      "[CV 7/10] END ...........criterion=entropy, max_leaf_nodes=8; total time=   0.0s\n",
      "[CV 8/10] END ...........criterion=entropy, max_leaf_nodes=8; total time=   0.0s\n",
      "[CV 9/10] END ...........criterion=entropy, max_leaf_nodes=8; total time=   0.0s\n",
      "[CV 10/10] END ..........criterion=entropy, max_leaf_nodes=8; total time=   0.0s\n",
      "[CV 1/10] END ..........criterion=entropy, max_leaf_nodes=16; total time=   0.0s\n",
      "[CV 2/10] END ..........criterion=entropy, max_leaf_nodes=16; total time=   0.0s\n",
      "[CV 3/10] END ..........criterion=entropy, max_leaf_nodes=16; total time=   0.0s\n",
      "[CV 4/10] END ..........criterion=entropy, max_leaf_nodes=16; total time=   0.0s\n",
      "[CV 5/10] END ..........criterion=entropy, max_leaf_nodes=16; total time=   0.0s\n",
      "[CV 6/10] END ..........criterion=entropy, max_leaf_nodes=16; total time=   0.0s\n",
      "[CV 7/10] END ..........criterion=entropy, max_leaf_nodes=16; total time=   0.0s\n",
      "[CV 8/10] END ..........criterion=entropy, max_leaf_nodes=16; total time=   0.0s\n",
      "[CV 9/10] END ..........criterion=entropy, max_leaf_nodes=16; total time=   0.0s\n",
      "[CV 10/10] END .........criterion=entropy, max_leaf_nodes=16; total time=   0.0s\n",
      "[CV 1/10] END ..........criterion=entropy, max_leaf_nodes=32; total time=   0.0s\n",
      "[CV 2/10] END ..........criterion=entropy, max_leaf_nodes=32; total time=   0.0s\n",
      "[CV 3/10] END ..........criterion=entropy, max_leaf_nodes=32; total time=   0.0s\n",
      "[CV 4/10] END ..........criterion=entropy, max_leaf_nodes=32; total time=   0.0s\n",
      "[CV 5/10] END ..........criterion=entropy, max_leaf_nodes=32; total time=   0.0s\n",
      "[CV 6/10] END ..........criterion=entropy, max_leaf_nodes=32; total time=   0.0s\n",
      "[CV 7/10] END ..........criterion=entropy, max_leaf_nodes=32; total time=   0.0s\n",
      "[CV 8/10] END ..........criterion=entropy, max_leaf_nodes=32; total time=   0.0s\n",
      "[CV 9/10] END ..........criterion=entropy, max_leaf_nodes=32; total time=   0.0s\n",
      "[CV 10/10] END .........criterion=entropy, max_leaf_nodes=32; total time=   0.0s\n",
      "[CV 1/10] END ..........criterion=entropy, max_leaf_nodes=64; total time=   0.0s\n",
      "[CV 2/10] END ..........criterion=entropy, max_leaf_nodes=64; total time=   0.0s\n",
      "[CV 3/10] END ..........criterion=entropy, max_leaf_nodes=64; total time=   0.0s\n",
      "[CV 4/10] END ..........criterion=entropy, max_leaf_nodes=64; total time=   0.0s\n",
      "[CV 5/10] END ..........criterion=entropy, max_leaf_nodes=64; total time=   0.0s\n",
      "[CV 6/10] END ..........criterion=entropy, max_leaf_nodes=64; total time=   0.0s\n",
      "[CV 7/10] END ..........criterion=entropy, max_leaf_nodes=64; total time=   0.0s\n",
      "[CV 8/10] END ..........criterion=entropy, max_leaf_nodes=64; total time=   0.0s\n",
      "[CV 9/10] END ..........criterion=entropy, max_leaf_nodes=64; total time=   0.0s\n",
      "[CV 10/10] END .........criterion=entropy, max_leaf_nodes=64; total time=   0.0s\n",
      "[CV 1/10] END .........criterion=entropy, max_leaf_nodes=128; total time=   0.0s\n",
      "[CV 2/10] END .........criterion=entropy, max_leaf_nodes=128; total time=   0.0s\n",
      "[CV 3/10] END .........criterion=entropy, max_leaf_nodes=128; total time=   0.0s\n",
      "[CV 4/10] END .........criterion=entropy, max_leaf_nodes=128; total time=   0.0s\n",
      "[CV 5/10] END .........criterion=entropy, max_leaf_nodes=128; total time=   0.0s\n",
      "[CV 6/10] END .........criterion=entropy, max_leaf_nodes=128; total time=   0.0s\n",
      "[CV 7/10] END .........criterion=entropy, max_leaf_nodes=128; total time=   0.0s\n",
      "[CV 8/10] END .........criterion=entropy, max_leaf_nodes=128; total time=   0.0s\n",
      "[CV 9/10] END .........criterion=entropy, max_leaf_nodes=128; total time=   0.0s\n",
      "[CV 10/10] END ........criterion=entropy, max_leaf_nodes=128; total time=   0.0s\n",
      "[CV 1/10] END .........criterion=entropy, max_leaf_nodes=256; total time=   0.0s\n",
      "[CV 2/10] END .........criterion=entropy, max_leaf_nodes=256; total time=   0.0s\n",
      "[CV 3/10] END .........criterion=entropy, max_leaf_nodes=256; total time=   0.0s\n",
      "[CV 4/10] END .........criterion=entropy, max_leaf_nodes=256; total time=   0.0s\n",
      "[CV 5/10] END .........criterion=entropy, max_leaf_nodes=256; total time=   0.0s\n",
      "[CV 6/10] END .........criterion=entropy, max_leaf_nodes=256; total time=   0.0s\n",
      "[CV 7/10] END .........criterion=entropy, max_leaf_nodes=256; total time=   0.0s\n",
      "[CV 8/10] END .........criterion=entropy, max_leaf_nodes=256; total time=   0.0s\n",
      "[CV 9/10] END .........criterion=entropy, max_leaf_nodes=256; total time=   0.0s\n",
      "[CV 10/10] END ........criterion=entropy, max_leaf_nodes=256; total time=   0.0s\n",
      "[CV 1/10] END .........criterion=entropy, max_leaf_nodes=512; total time=   0.0s\n",
      "[CV 2/10] END .........criterion=entropy, max_leaf_nodes=512; total time=   0.0s\n",
      "[CV 3/10] END .........criterion=entropy, max_leaf_nodes=512; total time=   0.0s\n",
      "[CV 4/10] END .........criterion=entropy, max_leaf_nodes=512; total time=   0.0s\n",
      "[CV 5/10] END .........criterion=entropy, max_leaf_nodes=512; total time=   0.0s\n",
      "[CV 6/10] END .........criterion=entropy, max_leaf_nodes=512; total time=   0.0s\n",
      "[CV 7/10] END .........criterion=entropy, max_leaf_nodes=512; total time=   0.0s\n",
      "[CV 8/10] END .........criterion=entropy, max_leaf_nodes=512; total time=   0.0s\n",
      "[CV 9/10] END .........criterion=entropy, max_leaf_nodes=512; total time=   0.0s\n",
      "[CV 10/10] END ........criterion=entropy, max_leaf_nodes=512; total time=   0.0s\n",
      "[CV 1/10] END ........criterion=entropy, max_leaf_nodes=1024; total time=   0.0s\n",
      "[CV 2/10] END ........criterion=entropy, max_leaf_nodes=1024; total time=   0.0s\n",
      "[CV 3/10] END ........criterion=entropy, max_leaf_nodes=1024; total time=   0.0s\n",
      "[CV 4/10] END ........criterion=entropy, max_leaf_nodes=1024; total time=   0.0s\n",
      "[CV 5/10] END ........criterion=entropy, max_leaf_nodes=1024; total time=   0.0s\n",
      "[CV 6/10] END ........criterion=entropy, max_leaf_nodes=1024; total time=   0.0s\n",
      "[CV 7/10] END ........criterion=entropy, max_leaf_nodes=1024; total time=   0.0s\n",
      "[CV 8/10] END ........criterion=entropy, max_leaf_nodes=1024; total time=   0.0s\n",
      "[CV 9/10] END ........criterion=entropy, max_leaf_nodes=1024; total time=   0.0s\n",
      "[CV 10/10] END .......criterion=entropy, max_leaf_nodes=1024; total time=   0.0s\n",
      "[CV 1/10] END ........criterion=entropy, max_leaf_nodes=2048; total time=   0.0s\n",
      "[CV 2/10] END ........criterion=entropy, max_leaf_nodes=2048; total time=   0.0s\n",
      "[CV 3/10] END ........criterion=entropy, max_leaf_nodes=2048; total time=   0.0s\n",
      "[CV 4/10] END ........criterion=entropy, max_leaf_nodes=2048; total time=   0.0s\n",
      "[CV 5/10] END ........criterion=entropy, max_leaf_nodes=2048; total time=   0.0s\n",
      "[CV 6/10] END ........criterion=entropy, max_leaf_nodes=2048; total time=   0.0s\n",
      "[CV 7/10] END ........criterion=entropy, max_leaf_nodes=2048; total time=   0.0s\n",
      "[CV 8/10] END ........criterion=entropy, max_leaf_nodes=2048; total time=   0.0s\n",
      "[CV 9/10] END ........criterion=entropy, max_leaf_nodes=2048; total time=   0.0s\n",
      "[CV 10/10] END .......criterion=entropy, max_leaf_nodes=2048; total time=   0.0s\n"
     ]
    },
    {
     "data": {
      "text/plain": [
       "GridSearchCV(cv=10, estimator=DecisionTreeClassifier(random_state=61658),\n",
       "             param_grid={'criterion': ['gini', 'entropy'],\n",
       "                         'max_leaf_nodes': [4, 8, 16, 32, 64, 128, 256, 512,\n",
       "                                            1024, 2048]},\n",
       "             scoring='roc_auc', verbose=5)"
      ]
     },
     "execution_count": 14,
     "metadata": {},
     "output_type": "execute_result"
    }
   ],
   "source": [
    "grid.fit(X_tr, y_tr)"
   ]
  },
  {
   "cell_type": "markdown",
   "id": "31973f77",
   "metadata": {},
   "source": [
    "## Qual o melhor modelo?"
   ]
  },
  {
   "cell_type": "code",
   "execution_count": 15,
   "id": "d0c4f22e",
   "metadata": {},
   "outputs": [
    {
     "data": {
      "text/plain": [
       "{'criterion': 'entropy', 'max_leaf_nodes': 32}"
      ]
     },
     "execution_count": 15,
     "metadata": {},
     "output_type": "execute_result"
    }
   ],
   "source": [
    "grid.best_params_"
   ]
  },
  {
   "cell_type": "markdown",
   "id": "426f4130",
   "metadata": {},
   "source": [
    "   ### O melhor modelo encontrado na Validação Cruzada usou o critério de entropia e tem a quantidade máxima de folhas=32"
   ]
  },
  {
   "cell_type": "markdown",
   "id": "cc1b3af5",
   "metadata": {},
   "source": [
    "## Qual foi o melhor score médio?"
   ]
  },
  {
   "cell_type": "code",
   "execution_count": 16,
   "id": "e0c5b30d",
   "metadata": {},
   "outputs": [
    {
     "data": {
      "text/plain": [
       "0.8275774006882053"
      ]
     },
     "execution_count": 16,
     "metadata": {},
     "output_type": "execute_result"
    }
   ],
   "source": [
    "grid.best_score_"
   ]
  },
  {
   "cell_type": "markdown",
   "id": "aae2272a",
   "metadata": {},
   "source": [
    "## Vamos usar esse modelo no conjunto teste para validação"
   ]
  },
  {
   "cell_type": "code",
   "execution_count": 17,
   "id": "0e921f9b",
   "metadata": {},
   "outputs": [
    {
     "data": {
      "text/plain": [
       "array([0.07399577, 0.13777778, 0.03446502, ..., 0.13544018, 0.03446502,\n",
       "       0.03446502])"
      ]
     },
     "execution_count": 17,
     "metadata": {},
     "output_type": "execute_result"
    }
   ],
   "source": [
    "y_pred = grid.predict_proba(X_ts)[:, 1]\n",
    "y_pred"
   ]
  },
  {
   "cell_type": "markdown",
   "id": "4bb2e21e",
   "metadata": {},
   "source": [
    "## Curva ROC"
   ]
  },
  {
   "cell_type": "code",
   "execution_count": 18,
   "id": "de189e9f",
   "metadata": {},
   "outputs": [
    {
     "data": {
      "text/plain": [
       "<matplotlib.collections.PolyCollection at 0x23d57fb02b0>"
      ]
     },
     "execution_count": 18,
     "metadata": {},
     "output_type": "execute_result"
    },
    {
     "data": {
      "image/png": "[encoded data removed]",
      "text/plain": [
       "<Figure size 432x432 with 1 Axes>"
      ]
     },
     "metadata": {
      "needs_background": "light"
     },
     "output_type": "display_data"
    }
   ],
   "source": [
    "from sklearn.metrics import roc_curve\n",
    "\n",
    "fpr, tpr, ths = roc_curve(y_ts, y_pred)\n",
    "\n",
    "plt.figure(figsize=(6, 6))\n",
    "plt.plot(fpr, tpr)\n",
    "plt.plot((0, 1), (0, 1), 'k--')\n",
    "plt.fill_between(fpr, tpr, alpha=.2)"
   ]
  },
  {
   "cell_type": "markdown",
   "id": "89e33608",
   "metadata": {},
   "source": [
    "## ROC/AUC score"
   ]
  },
  {
   "cell_type": "code",
   "execution_count": 19,
   "id": "bddc7595",
   "metadata": {},
   "outputs": [
    {
     "data": {
      "text/plain": [
       "0.8266989583333333"
      ]
     },
     "execution_count": 19,
     "metadata": {},
     "output_type": "execute_result"
    }
   ],
   "source": [
    "from sklearn.metrics import roc_auc_score\n",
    "\n",
    "roc_auc_score(y_ts, y_pred)"
   ]
  },
  {
   "cell_type": "code",
   "execution_count": 20,
   "id": "61eb8de0",
   "metadata": {},
   "outputs": [
    {
     "data": {
      "text/plain": [
       "0.8275774006882053"
      ]
     },
     "execution_count": 20,
     "metadata": {},
     "output_type": "execute_result"
    }
   ],
   "source": [
    "grid.best_score_"
   ]
  },
  {
   "cell_type": "markdown",
   "id": "712221ad",
   "metadata": {},
   "source": [
    "### Números muito próximos é um bom indicador, isto quer dizer que o modelo está generalizando bem para os dados do conjunto teste"
   ]
  },
  {
   "cell_type": "markdown",
   "id": "002fe5bc",
   "metadata": {},
   "source": [
    "## Comparando o teste com treino"
   ]
  },
  {
   "cell_type": "code",
   "execution_count": 21,
   "id": "4209c8de",
   "metadata": {},
   "outputs": [
    {
     "data": {
      "text/plain": [
       "<matplotlib.legend.Legend at 0x23d57ffa520>"
      ]
     },
     "execution_count": 21,
     "metadata": {},
     "output_type": "execute_result"
    },
    {
     "data": {
      "image/png": "[encoded data removed]",
      "text/plain": [
       "<Figure size 432x432 with 1 Axes>"
      ]
     },
     "metadata": {
      "needs_background": "light"
     },
     "output_type": "display_data"
    }
   ],
   "source": [
    "from sklearn.metrics import roc_curve\n",
    "\n",
    "fpr, tpr, ths = roc_curve(y_ts, y_pred)\n",
    "\n",
    "plt.figure(figsize=(6, 6))\n",
    "plt.plot(fpr, tpr, label='Teste', color='b')\n",
    "plt.plot((0, 1), (0, 1), 'k--')\n",
    "\n",
    "fpr2, tpr2, ths2 = roc_curve(y_tr, grid.predict_proba(X_tr)[:, 1])\n",
    "plt.plot(fpr2, tpr2, label='Treino', color='r')\n",
    "\n",
    "plt.legend(fontsize=14)"
   ]
  },
  {
   "cell_type": "markdown",
   "id": "4884d3c2",
   "metadata": {},
   "source": [
    "### É normal o conjunto teste ter um score um pouco menor do que o conjunto treino! Diferenças entre as curvas até mostra que o modelo generalizou bem (sem overfit) para o conjunto teste."
   ]
  },
  {
   "cell_type": "markdown",
   "id": "6bde5523",
   "metadata": {},
   "source": [
    "## Visualizando a árvore"
   ]
  },
  {
   "cell_type": "code",
   "execution_count": 22,
   "id": "748dde02",
   "metadata": {},
   "outputs": [
    {
     "data": {
      "text/plain": [
       "DecisionTreeClassifier(criterion='entropy', max_leaf_nodes=32,\n",
       "                       random_state=61658)"
      ]
     },
     "execution_count": 22,
     "metadata": {},
     "output_type": "execute_result"
    }
   ],
   "source": [
    "grid.best_estimator_"
   ]
  },
  {
   "cell_type": "code",
   "execution_count": 23,
   "id": "ad952b5c",
   "metadata": {},
   "outputs": [
    {
     "data": {
      "image/png": "[encoded data removed]",
      "text/plain": [
       "<Figure size 432x288 with 1 Axes>"
      ]
     },
     "metadata": {
      "needs_background": "light"
     },
     "output_type": "display_data"
    }
   ],
   "source": [
    "from sklearn.tree import plot_tree\n",
    "\n",
    "plot_tree(grid.best_estimator_);"
   ]
  },
  {
   "cell_type": "markdown",
   "id": "34227744",
   "metadata": {},
   "source": [
    "### Vendo o início da árvore (variáveis mais relevantes)"
   ]
  },
  {
   "cell_type": "code",
   "execution_count": 24,
   "id": "cd769d64",
   "metadata": {},
   "outputs": [
    {
     "data": {
      "image/png": "[encoded data removed]",
      "text/plain": [
       "<Figure size 1080x720 with 1 Axes>"
      ]
     },
     "metadata": {
      "needs_background": "light"
     },
     "output_type": "display_data"
    }
   ],
   "source": [
    "plt.figure(figsize=(15, 10))\n",
    "plot_tree(grid.best_estimator_, max_depth=2,\n",
    "         feature_names=X_tr.columns, filled=True);"
   ]
  },
  {
   "cell_type": "markdown",
   "id": "92877e31",
   "metadata": {},
   "source": [
    "### Podemos notar que o parâmetro que melhor divide os dados em clientes que são fieis e aqueles que abandonam é a idade = 42.5 anos, assim, este é o primeiro nó da árvore ou a raiz dela"
   ]
  },
  {
   "cell_type": "markdown",
   "id": "8b104bd9",
   "metadata": {},
   "source": [
    "## Adicionando uma coluna com as predições"
   ]
  },
  {
   "cell_type": "code",
   "execution_count": 25,
   "id": "52f3fa1a",
   "metadata": {},
   "outputs": [
    {
     "data": {
      "text/html": [
       "<div>\n",
       "<style scoped>\n",
       "    .dataframe tbody tr th:only-of-type {\n",
       "        vertical-align: middle;\n",
       "    }\n",
       "\n",
       "    .dataframe tbody tr th {\n",
       "        vertical-align: top;\n",
       "    }\n",
       "\n",
       "    .dataframe thead th {\n",
       "        text-align: right;\n",
       "    }\n",
       "</style>\n",
       "<table border=\"1\" class=\"dataframe\">\n",
       "  <thead>\n",
       "    <tr style=\"text-align: right;\">\n",
       "      <th></th>\n",
       "      <th>Age</th>\n",
       "      <th>NumOfProducts</th>\n",
       "      <th>IsActiveMember</th>\n",
       "      <th>Exited</th>\n",
       "    </tr>\n",
       "  </thead>\n",
       "  <tbody>\n",
       "    <tr>\n",
       "      <th>9057</th>\n",
       "      <td>33</td>\n",
       "      <td>2</td>\n",
       "      <td>1</td>\n",
       "      <td>0</td>\n",
       "    </tr>\n",
       "    <tr>\n",
       "      <th>81</th>\n",
       "      <td>32</td>\n",
       "      <td>1</td>\n",
       "      <td>0</td>\n",
       "      <td>1</td>\n",
       "    </tr>\n",
       "    <tr>\n",
       "      <th>3433</th>\n",
       "      <td>37</td>\n",
       "      <td>1</td>\n",
       "      <td>0</td>\n",
       "      <td>0</td>\n",
       "    </tr>\n",
       "    <tr>\n",
       "      <th>1768</th>\n",
       "      <td>28</td>\n",
       "      <td>2</td>\n",
       "      <td>0</td>\n",
       "      <td>0</td>\n",
       "    </tr>\n",
       "    <tr>\n",
       "      <th>1888</th>\n",
       "      <td>60</td>\n",
       "      <td>2</td>\n",
       "      <td>1</td>\n",
       "      <td>0</td>\n",
       "    </tr>\n",
       "    <tr>\n",
       "      <th>...</th>\n",
       "      <td>...</td>\n",
       "      <td>...</td>\n",
       "      <td>...</td>\n",
       "      <td>...</td>\n",
       "    </tr>\n",
       "    <tr>\n",
       "      <th>4368</th>\n",
       "      <td>33</td>\n",
       "      <td>1</td>\n",
       "      <td>0</td>\n",
       "      <td>0</td>\n",
       "    </tr>\n",
       "    <tr>\n",
       "      <th>9637</th>\n",
       "      <td>31</td>\n",
       "      <td>1</td>\n",
       "      <td>1</td>\n",
       "      <td>0</td>\n",
       "    </tr>\n",
       "    <tr>\n",
       "      <th>8675</th>\n",
       "      <td>54</td>\n",
       "      <td>1</td>\n",
       "      <td>0</td>\n",
       "      <td>0</td>\n",
       "    </tr>\n",
       "    <tr>\n",
       "      <th>8806</th>\n",
       "      <td>38</td>\n",
       "      <td>2</td>\n",
       "      <td>1</td>\n",
       "      <td>0</td>\n",
       "    </tr>\n",
       "    <tr>\n",
       "      <th>3836</th>\n",
       "      <td>49</td>\n",
       "      <td>3</td>\n",
       "      <td>1</td>\n",
       "      <td>1</td>\n",
       "    </tr>\n",
       "  </tbody>\n",
       "</table>\n",
       "<p>7000 rows × 4 columns</p>\n",
       "</div>"
      ],
      "text/plain": [
       "      Age  NumOfProducts  IsActiveMember  Exited\n",
       "9057   33              2               1       0\n",
       "81     32              1               0       1\n",
       "3433   37              1               0       0\n",
       "1768   28              2               0       0\n",
       "1888   60              2               1       0\n",
       "...   ...            ...             ...     ...\n",
       "4368   33              1               0       0\n",
       "9637   31              1               1       0\n",
       "8675   54              1               0       0\n",
       "8806   38              2               1       0\n",
       "3836   49              3               1       1\n",
       "\n",
       "[7000 rows x 4 columns]"
      ]
     },
     "execution_count": 25,
     "metadata": {},
     "output_type": "execute_result"
    }
   ],
   "source": [
    "df_itr = pd.concat([X_tr, y_tr], axis=1, join='inner')\n",
    "df_itr"
   ]
  },
  {
   "cell_type": "code",
   "execution_count": 26,
   "id": "ba6040ed",
   "metadata": {},
   "outputs": [
    {
     "data": {
      "text/html": [
       "<div>\n",
       "<style scoped>\n",
       "    .dataframe tbody tr th:only-of-type {\n",
       "        vertical-align: middle;\n",
       "    }\n",
       "\n",
       "    .dataframe tbody tr th {\n",
       "        vertical-align: top;\n",
       "    }\n",
       "\n",
       "    .dataframe thead th {\n",
       "        text-align: right;\n",
       "    }\n",
       "</style>\n",
       "<table border=\"1\" class=\"dataframe\">\n",
       "  <thead>\n",
       "    <tr style=\"text-align: right;\">\n",
       "      <th></th>\n",
       "      <th>Age</th>\n",
       "      <th>NumOfProducts</th>\n",
       "      <th>IsActiveMember</th>\n",
       "      <th>Exited</th>\n",
       "    </tr>\n",
       "  </thead>\n",
       "  <tbody>\n",
       "    <tr>\n",
       "      <th>2184</th>\n",
       "      <td>40</td>\n",
       "      <td>2</td>\n",
       "      <td>0</td>\n",
       "      <td>0</td>\n",
       "    </tr>\n",
       "    <tr>\n",
       "      <th>1795</th>\n",
       "      <td>35</td>\n",
       "      <td>1</td>\n",
       "      <td>1</td>\n",
       "      <td>0</td>\n",
       "    </tr>\n",
       "    <tr>\n",
       "      <th>2175</th>\n",
       "      <td>34</td>\n",
       "      <td>2</td>\n",
       "      <td>0</td>\n",
       "      <td>0</td>\n",
       "    </tr>\n",
       "    <tr>\n",
       "      <th>9004</th>\n",
       "      <td>33</td>\n",
       "      <td>2</td>\n",
       "      <td>0</td>\n",
       "      <td>0</td>\n",
       "    </tr>\n",
       "    <tr>\n",
       "      <th>3484</th>\n",
       "      <td>28</td>\n",
       "      <td>2</td>\n",
       "      <td>1</td>\n",
       "      <td>0</td>\n",
       "    </tr>\n",
       "    <tr>\n",
       "      <th>...</th>\n",
       "      <td>...</td>\n",
       "      <td>...</td>\n",
       "      <td>...</td>\n",
       "      <td>...</td>\n",
       "    </tr>\n",
       "    <tr>\n",
       "      <th>8441</th>\n",
       "      <td>23</td>\n",
       "      <td>2</td>\n",
       "      <td>0</td>\n",
       "      <td>0</td>\n",
       "    </tr>\n",
       "    <tr>\n",
       "      <th>9524</th>\n",
       "      <td>38</td>\n",
       "      <td>1</td>\n",
       "      <td>0</td>\n",
       "      <td>0</td>\n",
       "    </tr>\n",
       "    <tr>\n",
       "      <th>1685</th>\n",
       "      <td>20</td>\n",
       "      <td>1</td>\n",
       "      <td>0</td>\n",
       "      <td>1</td>\n",
       "    </tr>\n",
       "    <tr>\n",
       "      <th>5946</th>\n",
       "      <td>32</td>\n",
       "      <td>2</td>\n",
       "      <td>0</td>\n",
       "      <td>0</td>\n",
       "    </tr>\n",
       "    <tr>\n",
       "      <th>6588</th>\n",
       "      <td>28</td>\n",
       "      <td>2</td>\n",
       "      <td>0</td>\n",
       "      <td>0</td>\n",
       "    </tr>\n",
       "  </tbody>\n",
       "</table>\n",
       "<p>3000 rows × 4 columns</p>\n",
       "</div>"
      ],
      "text/plain": [
       "      Age  NumOfProducts  IsActiveMember  Exited\n",
       "2184   40              2               0       0\n",
       "1795   35              1               1       0\n",
       "2175   34              2               0       0\n",
       "9004   33              2               0       0\n",
       "3484   28              2               1       0\n",
       "...   ...            ...             ...     ...\n",
       "8441   23              2               0       0\n",
       "9524   38              1               0       0\n",
       "1685   20              1               0       1\n",
       "5946   32              2               0       0\n",
       "6588   28              2               0       0\n",
       "\n",
       "[3000 rows x 4 columns]"
      ]
     },
     "execution_count": 26,
     "metadata": {},
     "output_type": "execute_result"
    }
   ],
   "source": [
    "df_its = pd.concat([X_ts, y_ts], axis=1, join='inner')\n",
    "df_its"
   ]
  },
  {
   "cell_type": "code",
   "execution_count": 27,
   "id": "e7e18290",
   "metadata": {},
   "outputs": [
    {
     "data": {
      "text/html": [
       "<div>\n",
       "<style scoped>\n",
       "    .dataframe tbody tr th:only-of-type {\n",
       "        vertical-align: middle;\n",
       "    }\n",
       "\n",
       "    .dataframe tbody tr th {\n",
       "        vertical-align: top;\n",
       "    }\n",
       "\n",
       "    .dataframe thead th {\n",
       "        text-align: right;\n",
       "    }\n",
       "</style>\n",
       "<table border=\"1\" class=\"dataframe\">\n",
       "  <thead>\n",
       "    <tr style=\"text-align: right;\">\n",
       "      <th></th>\n",
       "      <th>Age</th>\n",
       "      <th>NumOfProducts</th>\n",
       "      <th>IsActiveMember</th>\n",
       "      <th>Exited</th>\n",
       "    </tr>\n",
       "  </thead>\n",
       "  <tbody>\n",
       "    <tr>\n",
       "      <th>9057</th>\n",
       "      <td>33</td>\n",
       "      <td>2</td>\n",
       "      <td>1</td>\n",
       "      <td>0</td>\n",
       "    </tr>\n",
       "    <tr>\n",
       "      <th>81</th>\n",
       "      <td>32</td>\n",
       "      <td>1</td>\n",
       "      <td>0</td>\n",
       "      <td>1</td>\n",
       "    </tr>\n",
       "    <tr>\n",
       "      <th>3433</th>\n",
       "      <td>37</td>\n",
       "      <td>1</td>\n",
       "      <td>0</td>\n",
       "      <td>0</td>\n",
       "    </tr>\n",
       "    <tr>\n",
       "      <th>1768</th>\n",
       "      <td>28</td>\n",
       "      <td>2</td>\n",
       "      <td>0</td>\n",
       "      <td>0</td>\n",
       "    </tr>\n",
       "    <tr>\n",
       "      <th>1888</th>\n",
       "      <td>60</td>\n",
       "      <td>2</td>\n",
       "      <td>1</td>\n",
       "      <td>0</td>\n",
       "    </tr>\n",
       "    <tr>\n",
       "      <th>...</th>\n",
       "      <td>...</td>\n",
       "      <td>...</td>\n",
       "      <td>...</td>\n",
       "      <td>...</td>\n",
       "    </tr>\n",
       "    <tr>\n",
       "      <th>8441</th>\n",
       "      <td>23</td>\n",
       "      <td>2</td>\n",
       "      <td>0</td>\n",
       "      <td>0</td>\n",
       "    </tr>\n",
       "    <tr>\n",
       "      <th>9524</th>\n",
       "      <td>38</td>\n",
       "      <td>1</td>\n",
       "      <td>0</td>\n",
       "      <td>0</td>\n",
       "    </tr>\n",
       "    <tr>\n",
       "      <th>1685</th>\n",
       "      <td>20</td>\n",
       "      <td>1</td>\n",
       "      <td>0</td>\n",
       "      <td>1</td>\n",
       "    </tr>\n",
       "    <tr>\n",
       "      <th>5946</th>\n",
       "      <td>32</td>\n",
       "      <td>2</td>\n",
       "      <td>0</td>\n",
       "      <td>0</td>\n",
       "    </tr>\n",
       "    <tr>\n",
       "      <th>6588</th>\n",
       "      <td>28</td>\n",
       "      <td>2</td>\n",
       "      <td>0</td>\n",
       "      <td>0</td>\n",
       "    </tr>\n",
       "  </tbody>\n",
       "</table>\n",
       "<p>10000 rows × 4 columns</p>\n",
       "</div>"
      ],
      "text/plain": [
       "      Age  NumOfProducts  IsActiveMember  Exited\n",
       "9057   33              2               1       0\n",
       "81     32              1               0       1\n",
       "3433   37              1               0       0\n",
       "1768   28              2               0       0\n",
       "1888   60              2               1       0\n",
       "...   ...            ...             ...     ...\n",
       "8441   23              2               0       0\n",
       "9524   38              1               0       0\n",
       "1685   20              1               0       1\n",
       "5946   32              2               0       0\n",
       "6588   28              2               0       0\n",
       "\n",
       "[10000 rows x 4 columns]"
      ]
     },
     "execution_count": 27,
     "metadata": {},
     "output_type": "execute_result"
    }
   ],
   "source": [
    "df_final = pd.concat([df_itr, df_its])\n",
    "df_final"
   ]
  },
  {
   "cell_type": "code",
   "execution_count": 28,
   "id": "522bc8ab",
   "metadata": {},
   "outputs": [
    {
     "data": {
      "text/html": [
       "<div>\n",
       "<style scoped>\n",
       "    .dataframe tbody tr th:only-of-type {\n",
       "        vertical-align: middle;\n",
       "    }\n",
       "\n",
       "    .dataframe tbody tr th {\n",
       "        vertical-align: top;\n",
       "    }\n",
       "\n",
       "    .dataframe thead th {\n",
       "        text-align: right;\n",
       "    }\n",
       "</style>\n",
       "<table border=\"1\" class=\"dataframe\">\n",
       "  <thead>\n",
       "    <tr style=\"text-align: right;\">\n",
       "      <th></th>\n",
       "      <th>Age</th>\n",
       "      <th>NumOfProducts</th>\n",
       "      <th>IsActiveMember</th>\n",
       "      <th>Exited</th>\n",
       "      <th>y_pred</th>\n",
       "    </tr>\n",
       "  </thead>\n",
       "  <tbody>\n",
       "    <tr>\n",
       "      <th>9057</th>\n",
       "      <td>33</td>\n",
       "      <td>2</td>\n",
       "      <td>1</td>\n",
       "      <td>0</td>\n",
       "      <td>0.034465</td>\n",
       "    </tr>\n",
       "    <tr>\n",
       "      <th>81</th>\n",
       "      <td>32</td>\n",
       "      <td>1</td>\n",
       "      <td>0</td>\n",
       "      <td>1</td>\n",
       "      <td>0.135440</td>\n",
       "    </tr>\n",
       "    <tr>\n",
       "      <th>3433</th>\n",
       "      <td>37</td>\n",
       "      <td>1</td>\n",
       "      <td>0</td>\n",
       "      <td>0</td>\n",
       "      <td>0.193939</td>\n",
       "    </tr>\n",
       "    <tr>\n",
       "      <th>1768</th>\n",
       "      <td>28</td>\n",
       "      <td>2</td>\n",
       "      <td>0</td>\n",
       "      <td>0</td>\n",
       "      <td>0.034465</td>\n",
       "    </tr>\n",
       "    <tr>\n",
       "      <th>1888</th>\n",
       "      <td>60</td>\n",
       "      <td>2</td>\n",
       "      <td>1</td>\n",
       "      <td>0</td>\n",
       "      <td>0.126615</td>\n",
       "    </tr>\n",
       "    <tr>\n",
       "      <th>...</th>\n",
       "      <td>...</td>\n",
       "      <td>...</td>\n",
       "      <td>...</td>\n",
       "      <td>...</td>\n",
       "      <td>...</td>\n",
       "    </tr>\n",
       "    <tr>\n",
       "      <th>8441</th>\n",
       "      <td>23</td>\n",
       "      <td>2</td>\n",
       "      <td>0</td>\n",
       "      <td>0</td>\n",
       "      <td>0.034465</td>\n",
       "    </tr>\n",
       "    <tr>\n",
       "      <th>9524</th>\n",
       "      <td>38</td>\n",
       "      <td>1</td>\n",
       "      <td>0</td>\n",
       "      <td>0</td>\n",
       "      <td>0.193939</td>\n",
       "    </tr>\n",
       "    <tr>\n",
       "      <th>1685</th>\n",
       "      <td>20</td>\n",
       "      <td>1</td>\n",
       "      <td>0</td>\n",
       "      <td>1</td>\n",
       "      <td>0.135440</td>\n",
       "    </tr>\n",
       "    <tr>\n",
       "      <th>5946</th>\n",
       "      <td>32</td>\n",
       "      <td>2</td>\n",
       "      <td>0</td>\n",
       "      <td>0</td>\n",
       "      <td>0.034465</td>\n",
       "    </tr>\n",
       "    <tr>\n",
       "      <th>6588</th>\n",
       "      <td>28</td>\n",
       "      <td>2</td>\n",
       "      <td>0</td>\n",
       "      <td>0</td>\n",
       "      <td>0.034465</td>\n",
       "    </tr>\n",
       "  </tbody>\n",
       "</table>\n",
       "<p>10000 rows × 5 columns</p>\n",
       "</div>"
      ],
      "text/plain": [
       "      Age  NumOfProducts  IsActiveMember  Exited    y_pred\n",
       "9057   33              2               1       0  0.034465\n",
       "81     32              1               0       1  0.135440\n",
       "3433   37              1               0       0  0.193939\n",
       "1768   28              2               0       0  0.034465\n",
       "1888   60              2               1       0  0.126615\n",
       "...   ...            ...             ...     ...       ...\n",
       "8441   23              2               0       0  0.034465\n",
       "9524   38              1               0       0  0.193939\n",
       "1685   20              1               0       1  0.135440\n",
       "5946   32              2               0       0  0.034465\n",
       "6588   28              2               0       0  0.034465\n",
       "\n",
       "[10000 rows x 5 columns]"
      ]
     },
     "execution_count": 28,
     "metadata": {},
     "output_type": "execute_result"
    }
   ],
   "source": [
    "df_final['y_pred'] = grid.predict_proba(df_final.drop(columns='Exited'))[:, 1]\n",
    "df_final"
   ]
  },
  {
   "cell_type": "code",
   "execution_count": 29,
   "id": "8a5c958e",
   "metadata": {},
   "outputs": [
    {
     "data": {
      "text/html": [
       "<div>\n",
       "<style scoped>\n",
       "    .dataframe tbody tr th:only-of-type {\n",
       "        vertical-align: middle;\n",
       "    }\n",
       "\n",
       "    .dataframe tbody tr th {\n",
       "        vertical-align: top;\n",
       "    }\n",
       "\n",
       "    .dataframe thead th {\n",
       "        text-align: right;\n",
       "    }\n",
       "</style>\n",
       "<table border=\"1\" class=\"dataframe\">\n",
       "  <thead>\n",
       "    <tr style=\"text-align: right;\">\n",
       "      <th></th>\n",
       "      <th>Age</th>\n",
       "      <th>NumOfProducts</th>\n",
       "      <th>IsActiveMember</th>\n",
       "      <th>Exited</th>\n",
       "      <th>y_pred</th>\n",
       "    </tr>\n",
       "  </thead>\n",
       "  <tbody>\n",
       "    <tr>\n",
       "      <th>9057</th>\n",
       "      <td>33</td>\n",
       "      <td>2</td>\n",
       "      <td>1</td>\n",
       "      <td>0</td>\n",
       "      <td>0.0</td>\n",
       "    </tr>\n",
       "    <tr>\n",
       "      <th>81</th>\n",
       "      <td>32</td>\n",
       "      <td>1</td>\n",
       "      <td>0</td>\n",
       "      <td>1</td>\n",
       "      <td>0.0</td>\n",
       "    </tr>\n",
       "    <tr>\n",
       "      <th>3433</th>\n",
       "      <td>37</td>\n",
       "      <td>1</td>\n",
       "      <td>0</td>\n",
       "      <td>0</td>\n",
       "      <td>0.0</td>\n",
       "    </tr>\n",
       "    <tr>\n",
       "      <th>1768</th>\n",
       "      <td>28</td>\n",
       "      <td>2</td>\n",
       "      <td>0</td>\n",
       "      <td>0</td>\n",
       "      <td>0.0</td>\n",
       "    </tr>\n",
       "    <tr>\n",
       "      <th>1888</th>\n",
       "      <td>60</td>\n",
       "      <td>2</td>\n",
       "      <td>1</td>\n",
       "      <td>0</td>\n",
       "      <td>0.0</td>\n",
       "    </tr>\n",
       "    <tr>\n",
       "      <th>...</th>\n",
       "      <td>...</td>\n",
       "      <td>...</td>\n",
       "      <td>...</td>\n",
       "      <td>...</td>\n",
       "      <td>...</td>\n",
       "    </tr>\n",
       "    <tr>\n",
       "      <th>8441</th>\n",
       "      <td>23</td>\n",
       "      <td>2</td>\n",
       "      <td>0</td>\n",
       "      <td>0</td>\n",
       "      <td>0.0</td>\n",
       "    </tr>\n",
       "    <tr>\n",
       "      <th>9524</th>\n",
       "      <td>38</td>\n",
       "      <td>1</td>\n",
       "      <td>0</td>\n",
       "      <td>0</td>\n",
       "      <td>0.0</td>\n",
       "    </tr>\n",
       "    <tr>\n",
       "      <th>1685</th>\n",
       "      <td>20</td>\n",
       "      <td>1</td>\n",
       "      <td>0</td>\n",
       "      <td>1</td>\n",
       "      <td>0.0</td>\n",
       "    </tr>\n",
       "    <tr>\n",
       "      <th>5946</th>\n",
       "      <td>32</td>\n",
       "      <td>2</td>\n",
       "      <td>0</td>\n",
       "      <td>0</td>\n",
       "      <td>0.0</td>\n",
       "    </tr>\n",
       "    <tr>\n",
       "      <th>6588</th>\n",
       "      <td>28</td>\n",
       "      <td>2</td>\n",
       "      <td>0</td>\n",
       "      <td>0</td>\n",
       "      <td>0.0</td>\n",
       "    </tr>\n",
       "  </tbody>\n",
       "</table>\n",
       "<p>10000 rows × 5 columns</p>\n",
       "</div>"
      ],
      "text/plain": [
       "      Age  NumOfProducts  IsActiveMember  Exited  y_pred\n",
       "9057   33              2               1       0     0.0\n",
       "81     32              1               0       1     0.0\n",
       "3433   37              1               0       0     0.0\n",
       "1768   28              2               0       0     0.0\n",
       "1888   60              2               1       0     0.0\n",
       "...   ...            ...             ...     ...     ...\n",
       "8441   23              2               0       0     0.0\n",
       "9524   38              1               0       0     0.0\n",
       "1685   20              1               0       1     0.0\n",
       "5946   32              2               0       0     0.0\n",
       "6588   28              2               0       0     0.0\n",
       "\n",
       "[10000 rows x 5 columns]"
      ]
     },
     "execution_count": 29,
     "metadata": {},
     "output_type": "execute_result"
    }
   ],
   "source": [
    "df_final.loc[df_final['y_pred'] <= 0.5, 'y_pred'] = 0\n",
    "df_final.loc[df_final['y_pred'] > 0.5, 'y_pred'] = 1\n",
    "df_final"
   ]
  }
 ],
 "metadata": {
  "kernelspec": {
   "display_name": "Python 3",
   "language": "python",
   "name": "python3"
  },
  "language_info": {
   "codemirror_mode": {
    "name": "ipython",
    "version": 3
   },
   "file_extension": ".py",
   "mimetype": "text/x-python",
   "name": "python",
   "nbconvert_exporter": "python",
   "pygments_lexer": "ipython3",
   "version": "3.8.8"
  }
 },
 "nbformat": 4,
 "nbformat_minor": 5
}
